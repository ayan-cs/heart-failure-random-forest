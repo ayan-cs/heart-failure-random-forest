{
 "cells": [
  {
   "cell_type": "markdown",
   "metadata": {},
   "source": [
    "# **Import Dataset**\n",
    "\n",
    "The dataset contains information if a patient has been deceased or not, based on some features/symptoms observed in them. The features are as follows,\n",
    "\n",
    "- **Age** : $\\in \\mathbb{R}$\n",
    "- **Anaemia** : $\\in \\{0,1\\}$, Decrease of red blood cells or hemoglobin\n",
    "- **Creatinine Phosphokinase** : $\\in \\mathbb{Z}$, Level of the CPK enzyme in the blood (mcg/L)\n",
    "- **Diabetes** : $\\in \\{0, 1\\}$, If the patient has diabetes\n",
    "- **Ejection Fraction** : $\\in [0, 100]$, Percentage of blood leaving the heart at each contraction\n",
    "- **High Blood Pressure** : $\\in \\{0, 1\\}$, If the patient has hypertension\n",
    "- **Platelets** : $\\in \\mathbb{Z}$, Platelets in the blood (kiloplatelets/mL)\n",
    "- **Serum Creatinine** : $\\in \\mathbb{R}$, Level of serum creatinine in the blood (mg/dL)\n",
    "- **Serum Sodium** : $\\in \\mathbb{Z}$, Level of serum sodium in the blood (mEq/L)\n",
    "- **Sex** : $\\in \\{0,1\\}$, Woman or man\n",
    "- **Smoking** : $\\in \\{0,1\\}$, If the patient smokes or not\n",
    "- **Time** : $\\in \\mathbb{Z}$, Follow-up period (in days)\n",
    "\n",
    "Based on the feature values, it is given if the patient deceased during the follow-up period or not. This is given in column **DEATH_EVENT**, which takes values $\\in \\{0,1\\}$. The dataset is [available on Kaggle](https://www.kaggle.com/andrewmvd/heart-failure-clinical-data)."
   ]
  },
  {
   "cell_type": "code",
   "execution_count": 1,
   "metadata": {},
   "outputs": [
    {
     "data": {
      "text/html": [
       "<div>\n",
       "<style scoped>\n",
       "    .dataframe tbody tr th:only-of-type {\n",
       "        vertical-align: middle;\n",
       "    }\n",
       "\n",
       "    .dataframe tbody tr th {\n",
       "        vertical-align: top;\n",
       "    }\n",
       "\n",
       "    .dataframe thead th {\n",
       "        text-align: right;\n",
       "    }\n",
       "</style>\n",
       "<table border=\"1\" class=\"dataframe\">\n",
       "  <thead>\n",
       "    <tr style=\"text-align: right;\">\n",
       "      <th></th>\n",
       "      <th>age</th>\n",
       "      <th>anaemia</th>\n",
       "      <th>creatinine_phosphokinase</th>\n",
       "      <th>diabetes</th>\n",
       "      <th>ejection_fraction</th>\n",
       "      <th>high_blood_pressure</th>\n",
       "      <th>platelets</th>\n",
       "      <th>serum_creatinine</th>\n",
       "      <th>serum_sodium</th>\n",
       "      <th>sex</th>\n",
       "      <th>smoking</th>\n",
       "      <th>time</th>\n",
       "      <th>DEATH_EVENT</th>\n",
       "    </tr>\n",
       "  </thead>\n",
       "  <tbody>\n",
       "    <tr>\n",
       "      <th>0</th>\n",
       "      <td>75.0</td>\n",
       "      <td>0</td>\n",
       "      <td>582</td>\n",
       "      <td>0</td>\n",
       "      <td>20</td>\n",
       "      <td>1</td>\n",
       "      <td>265000.00</td>\n",
       "      <td>1.9</td>\n",
       "      <td>130</td>\n",
       "      <td>1</td>\n",
       "      <td>0</td>\n",
       "      <td>4</td>\n",
       "      <td>1</td>\n",
       "    </tr>\n",
       "    <tr>\n",
       "      <th>1</th>\n",
       "      <td>55.0</td>\n",
       "      <td>0</td>\n",
       "      <td>7861</td>\n",
       "      <td>0</td>\n",
       "      <td>38</td>\n",
       "      <td>0</td>\n",
       "      <td>263358.03</td>\n",
       "      <td>1.1</td>\n",
       "      <td>136</td>\n",
       "      <td>1</td>\n",
       "      <td>0</td>\n",
       "      <td>6</td>\n",
       "      <td>1</td>\n",
       "    </tr>\n",
       "    <tr>\n",
       "      <th>2</th>\n",
       "      <td>65.0</td>\n",
       "      <td>0</td>\n",
       "      <td>146</td>\n",
       "      <td>0</td>\n",
       "      <td>20</td>\n",
       "      <td>0</td>\n",
       "      <td>162000.00</td>\n",
       "      <td>1.3</td>\n",
       "      <td>129</td>\n",
       "      <td>1</td>\n",
       "      <td>1</td>\n",
       "      <td>7</td>\n",
       "      <td>1</td>\n",
       "    </tr>\n",
       "    <tr>\n",
       "      <th>3</th>\n",
       "      <td>50.0</td>\n",
       "      <td>1</td>\n",
       "      <td>111</td>\n",
       "      <td>0</td>\n",
       "      <td>20</td>\n",
       "      <td>0</td>\n",
       "      <td>210000.00</td>\n",
       "      <td>1.9</td>\n",
       "      <td>137</td>\n",
       "      <td>1</td>\n",
       "      <td>0</td>\n",
       "      <td>7</td>\n",
       "      <td>1</td>\n",
       "    </tr>\n",
       "    <tr>\n",
       "      <th>4</th>\n",
       "      <td>65.0</td>\n",
       "      <td>1</td>\n",
       "      <td>160</td>\n",
       "      <td>1</td>\n",
       "      <td>20</td>\n",
       "      <td>0</td>\n",
       "      <td>327000.00</td>\n",
       "      <td>2.7</td>\n",
       "      <td>116</td>\n",
       "      <td>0</td>\n",
       "      <td>0</td>\n",
       "      <td>8</td>\n",
       "      <td>1</td>\n",
       "    </tr>\n",
       "  </tbody>\n",
       "</table>\n",
       "</div>"
      ],
      "text/plain": [
       "    age  anaemia  creatinine_phosphokinase  diabetes  ejection_fraction  \\\n",
       "0  75.0        0                       582         0                 20   \n",
       "1  55.0        0                      7861         0                 38   \n",
       "2  65.0        0                       146         0                 20   \n",
       "3  50.0        1                       111         0                 20   \n",
       "4  65.0        1                       160         1                 20   \n",
       "\n",
       "   high_blood_pressure  platelets  serum_creatinine  serum_sodium  sex  \\\n",
       "0                    1  265000.00               1.9           130    1   \n",
       "1                    0  263358.03               1.1           136    1   \n",
       "2                    0  162000.00               1.3           129    1   \n",
       "3                    0  210000.00               1.9           137    1   \n",
       "4                    0  327000.00               2.7           116    0   \n",
       "\n",
       "   smoking  time  DEATH_EVENT  \n",
       "0        0     4            1  \n",
       "1        0     6            1  \n",
       "2        1     7            1  \n",
       "3        0     7            1  \n",
       "4        0     8            1  "
      ]
     },
     "execution_count": 1,
     "metadata": {},
     "output_type": "execute_result"
    }
   ],
   "source": [
    "from matplotlib import pyplot as plt\n",
    "import pandas as pd\n",
    "import numpy as np\n",
    "\n",
    "heart = pd.read_csv('heart_failure.csv')\n",
    "heart.head(5)"
   ]
  },
  {
   "cell_type": "markdown",
   "metadata": {},
   "source": [
    "# **Visualization of 2 features**\n",
    "\n",
    "You can visualize by taking any two features and plotting them along with the axes. As the target takes binary values, I have used 2 different colours to represent the values, Red for Deceased (1) and Blue for Not Deceased (0). Here I have taken **Age** and **Number of Platelets** along with Horizontal and Vertical axes respectively."
   ]
  },
  {
   "cell_type": "code",
   "execution_count": 2,
   "metadata": {},
   "outputs": [
    {
     "data": {
      "image/png": "[encoded data removed]",
      "text/plain": [
       "<Figure size 432x288 with 1 Axes>"
      ]
     },
     "metadata": {
      "needs_background": "light"
     },
     "output_type": "display_data"
    }
   ],
   "source": [
    "X_age_0 = [heart['age'][i] for i in range(len(heart)) if heart['DEATH_EVENT'][i]==0]\n",
    "X_age_1 = [heart['age'][i] for i in range(len(heart)) if heart['DEATH_EVENT'][i]==1]\n",
    "\n",
    "y_diabetes_0 = [heart['platelets'][i] for i in range(len(heart)) if heart['DEATH_EVENT'][i]==0]\n",
    "y_diabetes_1 = [heart['platelets'][i] for i in range(len(heart)) if heart['DEATH_EVENT'][i]==1]\n",
    "\n",
    "plt.scatter(X_age_0, y_diabetes_0, color='blue')\n",
    "plt.scatter(X_age_1, y_diabetes_1, color='red')\n",
    "plt.xlabel('Age')\n",
    "plt.ylabel('Platelets')\n",
    "plt.legend(['Class 0', 'Class 1'])\n",
    "plt.show()"
   ]
  },
  {
   "cell_type": "markdown",
   "metadata": {},
   "source": [
    "# Splitting Dataset and applying Random Forest Classifier\n",
    "\n",
    "In this step, the dataset is split into Train set and Validation set. $70%$ of the instances have been used for Training and rest $30%$ have been used in Validation of the model. You can further split the Validation Set into Test Set and Validation Set.\n",
    "\n",
    "After that, ```RandomForestClassifier```, an ensemble of Decision Trees is applied on the dataset. I have used ```Scikits-learn```'s inbuilt ```RandomForestClassifier``` here. For simplicity, Default parameters have been kept. Deault parameter values can be obtained by the ```get_params()``` method of ```RandomForestClassifier``` class."
   ]
  },
  {
   "cell_type": "code",
   "execution_count": 3,
   "metadata": {},
   "outputs": [
    {
     "name": "stdout",
     "output_type": "stream",
     "text": [
      "Train Score : 1.0 \t Validation Score : 0.8666666666666667\n",
      "{'bootstrap': True, 'ccp_alpha': 0.0, 'class_weight': None, 'criterion': 'gini', 'max_depth': None, 'max_features': 'auto', 'max_leaf_nodes': None, 'max_samples': None, 'min_impurity_decrease': 0.0, 'min_impurity_split': None, 'min_samples_leaf': 1, 'min_samples_split': 2, 'min_weight_fraction_leaf': 0.0, 'n_estimators': 100, 'n_jobs': None, 'oob_score': False, 'random_state': None, 'verbose': 0, 'warm_start': False}\n"
     ]
    }
   ],
   "source": [
    "X = np.array([heart.loc[i][:-1] for i in range(len(heart))])\n",
    "y = np.array(heart['DEATH_EVENT'])\n",
    "\n",
    "from sklearn.model_selection import train_test_split\n",
    "X_train, X_test, y_train, y_test = train_test_split(X, y, test_size = 0.3)\n",
    "\n",
    "from sklearn.ensemble import RandomForestClassifier\n",
    "clf = RandomForestClassifier()\n",
    "clf.fit(X_train, y_train)\n",
    "print(f\"Train Score : {clf.score(X_train, y_train)} \\t Validation Score : {clf.score(X_test, y_test)}\")\n",
    "print(clf.get_params())"
   ]
  },
  {
   "cell_type": "markdown",
   "metadata": {},
   "source": [
    "# Probability of Predicted Classes\n",
    "\n",
    "We can get the probabilities of predictions for each class. At a high level, we get the classification as the class having highest predicted probability. For example, in the first instance below, the model has predicted Class $0$ to be $0.92$ and Class $1$ to be $0.08$, therefore the Class prediction is $0$. I have used the inbuilt ```predict_proba()``` function to get the class prediction probabilities."
   ]
  },
  {
   "cell_type": "code",
   "execution_count": 4,
   "metadata": {},
   "outputs": [
    {
     "name": "stdout",
     "output_type": "stream",
     "text": [
      "Predictions : [1 0 0 0 0 0 0 0 0 0]\n",
      "Pred Prob : [[0.22 0.78]\n",
      " [0.85 0.15]\n",
      " [0.94 0.06]\n",
      " [0.98 0.02]\n",
      " [0.64 0.36]\n",
      " [1.   0.  ]\n",
      " [0.99 0.01]\n",
      " [0.86 0.14]\n",
      " [0.8  0.2 ]\n",
      " [0.82 0.18]]\n"
     ]
    }
   ],
   "source": [
    "y_pred = clf.predict(X_test)\n",
    "y_pred_prob = clf.predict_proba(X_test)\n",
    "print(f\"Predictions : {y_pred[:10]}\\nPred Prob : {y_pred_prob[:10]}\")"
   ]
  },
  {
   "cell_type": "markdown",
   "metadata": {},
   "source": [
    "# Computing ROC Curve and AUC Score\n",
    "\n",
    "**ROC** stands **Receiver Operator Characteristics** for and **AUC** means **Area Under the Curve**. Higher value of AUC means our binary classifier can efficiently distinguish between Class $0$ and Class $1$. You can check out some good explanations [here](https://www.analyticsvidhya.com/blog/2020/06/auc-roc-curve-machine-learning/), [here](https://towardsdatascience.com/understanding-auc-roc-curve-68b2303cc9c5).\n",
    "\n",
    "Using ```Scikits-learn```'s inbuilt methods, you can obtain these easily."
   ]
  },
  {
   "cell_type": "code",
   "execution_count": 5,
   "metadata": {},
   "outputs": [
    {
     "data": {
      "image/png": "[encoded data removed]",
      "text/plain": [
       "<Figure size 432x288 with 1 Axes>"
      ]
     },
     "metadata": {
      "needs_background": "light"
     },
     "output_type": "display_data"
    },
    {
     "name": "stdout",
     "output_type": "stream",
     "text": [
      "AUC Score : 0.9136139967195188\n"
     ]
    }
   ],
   "source": [
    "from sklearn.metrics import roc_auc_score, roc_curve\n",
    "fpr0, tpr0, _ = roc_curve(y_test, y_pred_prob[:,1])\n",
    "\n",
    "plt.plot(fpr0, tpr0)\n",
    "plt.xlabel('False Positive Rate')\n",
    "plt.ylabel('True Positive Rate')\n",
    "plt.title('ROC Curve')\n",
    "plt.show()\n",
    "\n",
    "print(f\"AUC Score : {roc_auc_score(y_test, y_pred_prob[:,1])}\")"
   ]
  },
  {
   "cell_type": "markdown",
   "metadata": {},
   "source": [
    "# Finding correlation between Diabetes and Death Event\n",
    "\n",
    "This is an additional task you can do to find a correlation between any of the feature and the Death Event due to Heart failure. I have chosen the attribute Diabetes i.e. trying to find if Diabetes has a major impact on death due to heart disease or not.\n",
    "\n",
    "From the dataset, the analysis shows that number of Patients with diabetes survived is more than the number of patients deceased without diabetes."
   ]
  },
  {
   "cell_type": "code",
   "execution_count": 6,
   "metadata": {},
   "outputs": [
    {
     "name": "stdout",
     "output_type": "stream",
     "text": [
      "Patients deceased having diabetes : 40\n",
      "Patients deceased not having Diabetes : 56\n",
      "Patients survived with diabetes : 85\n"
     ]
    }
   ],
   "source": [
    "diabetes_death = 0\n",
    "diabetes_notdeath = 0\n",
    "notdiabetes_death = 0\n",
    "\n",
    "for i in range(len(heart)):\n",
    "    if heart['diabetes'][i]==1 and y[i]==1:\n",
    "        diabetes_death += 1\n",
    "    elif heart['diabetes'][i]==1 and y[i]==0:\n",
    "        diabetes_notdeath += 1\n",
    "    elif heart['diabetes'][i]==0 and y[i]==1:\n",
    "        notdiabetes_death += 1\n",
    "\n",
    "print(f\"Patients deceased having diabetes : {diabetes_death}\\nPatients deceased not having Diabetes : {notdiabetes_death}\\nPatients survived with diabetes : {diabetes_notdeath}\")"
   ]
  },
  {
   "cell_type": "markdown",
   "metadata": {},
   "source": [
    "This code has been submitted by [```ayan-cs```](https://github.com/ayan-cs). Don't forget to Follow me on Github."
   ]
  }
 ],
 "metadata": {
  "interpreter": {
   "hash": "1fa55b210fe6dc681b5d14c145252b97ca241050c73c1e9f8cb6c42409351a44"
  },
  "kernelspec": {
   "display_name": "Python 3.9.0 64-bit",
   "name": "python3"
  },
  "language_info": {
   "codemirror_mode": {
    "name": "ipython",
    "version": 3
   },
   "file_extension": ".py",
   "mimetype": "text/x-python",
   "name": "python",
   "nbconvert_exporter": "python",
   "pygments_lexer": "ipython3",
   "version": "3.9.0"
  },
  "orig_nbformat": 4
 },
 "nbformat": 4,
 "nbformat_minor": 2
}
